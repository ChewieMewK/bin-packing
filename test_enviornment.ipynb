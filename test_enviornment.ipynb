{
 "cells": [
  {
   "cell_type": "markdown",
   "metadata": {},
   "source": [
    "# Bin packing algorithm"
   ]
  },
  {
   "cell_type": "code",
   "execution_count": 129,
   "metadata": {},
   "outputs": [],
   "source": [
    "import numpy as np\n",
    "import matplotlib.pyplot as plt\n",
    "from matplotlib.patches import Rectangle\n",
    "from dataclasses import dataclass\n",
    "from functools import total_ordering\n",
    "import random"
   ]
  },
  {
   "cell_type": "code",
   "execution_count": 100,
   "metadata": {},
   "outputs": [],
   "source": [
    "def draw_box(ax, box, background_color='lightblue', edge_color='black',alpha=0.5):\n",
    "    box = Rectangle(box.origin, box.width, box.height, fc=background_color,ec=edge_color,alpha=alpha)\n",
    "    ax.add_patch(box)"
   ]
  },
  {
   "cell_type": "code",
   "execution_count": 126,
   "metadata": {},
   "outputs": [],
   "source": [
    "@total_ordering\n",
    "@dataclass\n",
    "class Box:\n",
    "    width: int\n",
    "    height: int\n",
    "    origin: tuple[int, int] = (0,0)\n",
    "\n",
    "    def coords(self) -> list:\n",
    "        return [\n",
    "            self.origin, \n",
    "            (self.origin[0] + self.width, self.origin[1]), \n",
    "            (self.origin[0], self.origin[1] + self.height),\n",
    "            (self.origin[0] + self.width, self.origin[1] + self.height)\n",
    "        ]\n",
    "\n",
    "    def area(self) -> int:\n",
    "        return self.width * self.height\n",
    "\n",
    "    def __eq__(self, other):\n",
    "        return (self.width == other.width) and (self.height == other.height)\n",
    "\n",
    "    def __lt__(self, other):\n",
    "        return self.area() < other.area()"
   ]
  },
  {
   "cell_type": "code",
   "execution_count": 101,
   "metadata": {},
   "outputs": [
    {
     "data": {
      "image/png": "[encoded data removed]",
      "text/plain": [
       "<Figure size 432x432 with 1 Axes>"
      ]
     },
     "metadata": {
      "needs_background": "light"
     },
     "output_type": "display_data"
    }
   ],
   "source": [
    "fig, ax = plt.subplots(1,figsize=(6,6))\n",
    "\n",
    "plt.ylim([0,10])\n",
    "plt.xlim([0,10])\n",
    "\n",
    "draw_box(ax, Box(2, 2, (0,0)))\n",
    "draw_box(ax, Box(1, 1, (2,2)))\n",
    "draw_box(ax, Box(3, 3, (0,5)))\n",
    "draw_box(ax, Box(10, 10, (3,3)))\n",
    "\n",
    "plt.show()"
   ]
  },
  {
   "cell_type": "code",
   "execution_count": 78,
   "metadata": {},
   "outputs": [
    {
     "data": {
      "text/plain": [
       "True"
      ]
     },
     "execution_count": 78,
     "metadata": {},
     "output_type": "execute_result"
    }
   ],
   "source": [
    "a = Box(width=1, height=40)\n",
    "b = Box(width=7, height=1, origin=(2,2))\n",
    "a > b"
   ]
  },
  {
   "cell_type": "code",
   "execution_count": 138,
   "metadata": {},
   "outputs": [],
   "source": [
    "box_dims = [[1,1] for _ in range(50)]\n",
    "boxes = [Box(d[0], d[1]) for d in box_dims]"
   ]
  },
  {
   "cell_type": "code",
   "execution_count": 157,
   "metadata": {},
   "outputs": [
    {
     "data": {
      "image/png": "[encoded data removed]",
      "text/plain": [
       "<Figure size 432x432 with 1 Axes>"
      ]
     },
     "metadata": {
      "needs_background": "light"
     },
     "output_type": "display_data"
    }
   ],
   "source": [
    "fig, ax = plt.subplots(1,figsize=(6,6))\n",
    "\n",
    "container_width = 10\n",
    "container_height = 10\n",
    "\n",
    "plt.ylim([0,container_height])\n",
    "plt.xlim([0,container_width])\n",
    "\n",
    "vertices = [(0,0)]\n",
    "\n",
    "for b in boxes:\n",
    "    index = random.randint(0,len(vertices)-1)\n",
    "    b.origin = vertices[index]\n",
    "    vertices.pop(index)\n",
    "    vertices += b.coords()[1:]\n",
    "    draw_box(ax, b)\n",
    "\n",
    "plt.show()"
   ]
  },
  {
   "cell_type": "code",
   "execution_count": 1,
   "metadata": {},
   "outputs": [
    {
     "ename": "NameError",
     "evalue": "name 'boxes' is not defined",
     "output_type": "error",
     "traceback": [
      "\u001b[0;31m---------------------------------------------------------------------------\u001b[0m",
      "\u001b[0;31mNameError\u001b[0m                                 Traceback (most recent call last)",
      "\u001b[1;32m/Users/sebastianbitsch/Documents/Programmeringsprojekter/BinPackingAlgorithm/test_enviornment.ipynb Cell 9'\u001b[0m in \u001b[0;36m<module>\u001b[0;34m\u001b[0m\n\u001b[0;32m----> <a href='vscode-notebook-cell:/Users/sebastianbitsch/Documents/Programmeringsprojekter/BinPackingAlgorithm/test_enviornment.ipynb#ch0000009?line=0'>1</a>\u001b[0m boxes[\u001b[39m0\u001b[39m]\u001b[39m.\u001b[39mcoords()\n",
      "\u001b[0;31mNameError\u001b[0m: name 'boxes' is not defined"
     ]
    }
   ],
   "source": [
    "boxes[0].coords()"
   ]
  },
  {
   "cell_type": "code",
   "execution_count": null,
   "metadata": {},
   "outputs": [],
   "source": []
  },
  {
   "cell_type": "code",
   "execution_count": null,
   "metadata": {},
   "outputs": [],
   "source": []
  },
  {
   "cell_type": "code",
   "execution_count": null,
   "metadata": {},
   "outputs": [],
   "source": []
  },
  {
   "cell_type": "code",
   "execution_count": null,
   "metadata": {},
   "outputs": [],
   "source": []
  }
 ],
 "metadata": {
  "interpreter": {
   "hash": "b0fa6594d8f4cbf19f97940f81e996739fb7646882a419484c72d19e05852a7e"
  },
  "kernelspec": {
   "display_name": "Python 3.8.2 64-bit",
   "language": "python",
   "name": "python3"
  },
  "language_info": {
   "codemirror_mode": {
    "name": "ipython",
    "version": 3
   },
   "file_extension": ".py",
   "mimetype": "text/x-python",
   "name": "python",
   "nbconvert_exporter": "python",
   "pygments_lexer": "ipython3",
   "version": "3.9.7"
  },
  "orig_nbformat": 4
 },
 "nbformat": 4,
 "nbformat_minor": 2
}
