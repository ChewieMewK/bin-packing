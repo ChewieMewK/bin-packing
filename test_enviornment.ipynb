{
 "cells": [
  {
   "cell_type": "markdown",
   "metadata": {},
   "source": [
    "# Bin packing algorithm"
   ]
  },
  {
   "cell_type": "code",
   "execution_count": 1,
   "metadata": {},
   "outputs": [],
   "source": [
    "import numpy as np\n",
    "import matplotlib.pyplot as plt\n",
    "from matplotlib.patches import Rectangle\n",
    "from Box import Box\n",
    "import random\n"
   ]
  },
  {
   "cell_type": "code",
   "execution_count": 2,
   "metadata": {},
   "outputs": [],
   "source": [
    "n = 10\n",
    "\n",
    "container_width = 10\n",
    "container_height = 10"
   ]
  },
  {
   "cell_type": "code",
   "execution_count": null,
   "metadata": {},
   "outputs": [],
   "source": []
  },
  {
   "cell_type": "code",
   "execution_count": 3,
   "metadata": {},
   "outputs": [],
   "source": [
    "def draw_box(ax, box, background_color='lightblue', edge_color='black',alpha=0.5):\n",
    "    box = Rectangle(box.origin, box.width, box.height, fc=background_color,ec=edge_color,alpha=alpha)\n",
    "    ax.add_patch(box)"
   ]
  },
  {
   "cell_type": "code",
   "execution_count": 4,
   "metadata": {},
   "outputs": [
    {
     "data": {
      "image/png": "[encoded data removed]",
      "text/plain": [
       "<Figure size 432x432 with 1 Axes>"
      ]
     },
     "metadata": {
      "needs_background": "light"
     },
     "output_type": "display_data"
    }
   ],
   "source": [
    "fig, ax = plt.subplots(1,figsize=(6,6))\n",
    "\n",
    "plt.ylim([0,10])\n",
    "plt.xlim([0,10])\n",
    "\n",
    "draw_box(ax, Box(2, 2, (0,0)))\n",
    "draw_box(ax, Box(1, 1, (2,2)))\n",
    "draw_box(ax, Box(3, 3, (0,5)))\n",
    "draw_box(ax, Box(10, 10, (3,3)))\n",
    "\n",
    "plt.show()"
   ]
  },
  {
   "cell_type": "code",
   "execution_count": 5,
   "metadata": {},
   "outputs": [
    {
     "data": {
      "text/plain": [
       "True"
      ]
     },
     "execution_count": 5,
     "metadata": {},
     "output_type": "execute_result"
    }
   ],
   "source": [
    "a = Box(width=1, height=40)\n",
    "b = Box(width=7, height=1, origin=(2,2))\n",
    "a > b"
   ]
  },
  {
   "cell_type": "code",
   "execution_count": 6,
   "metadata": {},
   "outputs": [],
   "source": [
    "#box_dims = [[1,1] for _ in range(10)]\n",
    "box_dims = [[1,4],[3,3],[2,1],[1,1],[2,2],[1,2],[1,2]]\n",
    "boxes = [Box(d[0], d[1]) for d in box_dims]"
   ]
  },
  {
   "cell_type": "code",
   "execution_count": 7,
   "metadata": {},
   "outputs": [
    {
     "data": {
      "image/png": "[encoded data removed]",
      "text/plain": [
       "<Figure size 432x432 with 1 Axes>"
      ]
     },
     "metadata": {
      "needs_background": "light"
     },
     "output_type": "display_data"
    }
   ],
   "source": [
    "fig, ax = plt.subplots(1,figsize=(6,6))\n",
    "\n",
    "container_width = 10\n",
    "container_height = 10\n",
    "\n",
    "plt.ylim([0,container_height])\n",
    "plt.xlim([0,container_width])\n",
    "\n",
    "vertices = [(0,0)]\n",
    "\n",
    "# for b in boxes:\n",
    "#     index = random.randint(0,len(vertices)-1)\n",
    "#     b.origin = vertices[index]\n",
    "#     vertices.pop(index)\n",
    "#     vertices += b.coords()[1:]\n",
    "#     draw_box(ax, b)\n",
    "\n",
    "plt.show()"
   ]
  },
  {
   "cell_type": "code",
   "execution_count": 8,
   "metadata": {},
   "outputs": [],
   "source": [
    "def idmax_width(iterable):\n",
    "    return max([(x.width, x.id) for x in iterable])[1]\n",
    "\n",
    "def idmax_height(iterable):\n",
    "    return max([(x.height, x.id) for x in iterable])[1]\n",
    "\n",
    "def idmax_area(iterable):\n",
    "    return max([(x.area(), x.id) for x in iterable])[1]\n",
    "\n",
    "def combined_width(boxes):\n",
    "    return sum([b.width for b in boxes])\n",
    "\n",
    "def combined_height(boxes):\n",
    "    return sum([b.height for b in boxes])\n",
    "\n",
    "def box_w_id(id):\n",
    "    return [b for b in boxes if b.id == id][0]"
   ]
  },
  {
   "cell_type": "code",
   "execution_count": 9,
   "metadata": {},
   "outputs": [
    {
     "data": {
      "image/png": "[encoded data removed]",
      "text/plain": [
       "<Figure size 432x432 with 1 Axes>"
      ]
     },
     "metadata": {
      "needs_background": "light"
     },
     "output_type": "display_data"
    }
   ],
   "source": [
    "fig, ax = plt.subplots(1,figsize=(6,6))\n",
    "\n",
    "plt.ylim([0,container_height])\n",
    "plt.xlim([0,container_width])\n",
    "\n",
    "\n",
    "max_w_id = idmax_width(boxes)\n",
    "max_h_id = idmax_height(boxes)\n",
    "\n",
    "comb_w = combined_width([box_w_id(max_w_id), box_w_id(max_h_id)])\n",
    "\n",
    "comb_h = combined_height([box_w_id(max_w_id), box_w_id(max_h_id)])\n",
    "\n",
    "if comb_w < comb_h:\n",
    "    draw_box(ax, box_w_id(max_h_id))\n",
    "\n",
    "    box_w_id(max_w_id).origin = box_w_id(max_h_id).coords()[1]\n",
    "    draw_box(ax, box_w_id(max_w_id))\n",
    "\n",
    "    box_w_id(max_w_id).origin = box_w_id(max_h_id).coords()[1]\n",
    "    draw_box(ax, box_w_id(max_w_id))\n",
    "\n",
    "\n",
    "    # Place the max_height box\n",
    "\n",
    "plt.show()\n"
   ]
  },
  {
   "cell_type": "code",
   "execution_count": 10,
   "metadata": {},
   "outputs": [],
   "source": [
    "box_dims = [[1,4],[3,3],[2,1],[1,1],[2,2],[1,2],[1,2]]"
   ]
  },
  {
   "cell_type": "code",
   "execution_count": 3,
   "metadata": {},
   "outputs": [
    {
     "name": "stdout",
     "output_type": "stream",
     "text": [
      "[Point(1, 1, PointType.BOTTOM_LEFT, Point(4, 1, PointType.BOTTOM_LEFT, Point(1, 2, PointType.BOTTOM_LEFT, Point(4, 2, PointType.BOTTOM_LEFT]\n"
     ]
    }
   ],
   "source": [
    "from CCOA import CCOA\n",
    "from Rectangle import Rect\n",
    "from Point import Point, PointType\n",
    "\n",
    "a = CCOA(Rect(0, 3, 1), Point(1,1, PointType.BOTTOM_LEFT), False, None)\n",
    "print(a.vertices())"
   ]
  },
  {
   "cell_type": "code",
   "execution_count": 12,
   "metadata": {},
   "outputs": [
    {
     "data": {
      "text/plain": [
       "2.0"
      ]
     },
     "execution_count": 12,
     "metadata": {},
     "output_type": "execute_result"
    }
   ],
   "source": [
    "from CCOA import CCOA, min_distance\n",
    "from Rectangle import Rect\n",
    "from Point import Point\n",
    "\n",
    "a = CCOA(Rect(0, 3, 3),Point(0,0),False)\n",
    "b = CCOA(Rect(1, 2, 2),Point(5,0),False)\n",
    "min_distance(a,b)\n"
   ]
  },
  {
   "cell_type": "code",
   "execution_count": 1,
   "metadata": {},
   "outputs": [],
   "source": [
    "\n",
    "from Configuration import Configuration\n",
    "from CCOA import CCOA, min_distance\n",
    "from Rectangle import Rect\n",
    "from Point import Point, PointType\n",
    "\n",
    "container_width = 10\n",
    "container_height = 10\n",
    "\n",
    "initial_origins = [\n",
    "    Point(0, 0, PointType.BOTTOM_LEFT),\n",
    "    Point(container_width, 0, PointType.BOTTOM_RIGHT), \n",
    "    Point(0,container_height, PointType.TOP_LEFT), \n",
    "    Point(container_width, container_height, PointType.TOP_RIGHT)\n",
    "]\n",
    "\n",
    "# ccoa = CCOA(Rect(0, 1, 1), Point(0,0,PointType.BOTTOM_LEFT),False, Rect(-1,container_width,container_height))\n",
    "initial_configuration = Configuration(packed_rects=[],possible_origins=initial_origins)\n"
   ]
  },
  {
   "cell_type": "code",
   "execution_count": 2,
   "metadata": {},
   "outputs": [],
   "source": [
    "all_rects = [Rect(0, 1, 1)]"
   ]
  },
  {
   "cell_type": "code",
   "execution_count": 3,
   "metadata": {},
   "outputs": [
    {
     "name": "stdout",
     "output_type": "stream",
     "text": [
      "(-8.0, CCOA(Rect(id=0, w=1, h=1); Point(0, 0, PointType.BOTTOM_LEFT), True))\n",
      "(-8.0, CCOA(Rect(id=0, w=1, h=1); Point(0, 0, PointType.BOTTOM_LEFT), False))\n",
      "(-8.0, CCOA(Rect(id=0, w=1, h=1); Point(9, 0, PointType.BOTTOM_RIGHT), True))\n",
      "(-8.0, CCOA(Rect(id=0, w=1, h=1); Point(9, 0, PointType.BOTTOM_RIGHT), False))\n",
      "(-8.0, CCOA(Rect(id=0, w=1, h=1); Point(0, 9, PointType.TOP_LEFT), True))\n",
      "(-8.0, CCOA(Rect(id=0, w=1, h=1); Point(0, 9, PointType.TOP_LEFT), False))\n",
      "(-8.0, CCOA(Rect(id=0, w=1, h=1); Point(9, 9, PointType.TOP_RIGHT), True))\n",
      "(-8.0, CCOA(Rect(id=0, w=1, h=1); Point(9, 9, PointType.TOP_RIGHT), False))\n",
      "CCOA(Rect(id=0, w=1, h=1); Point(0, 0, PointType.BOTTOM_LEFT), True)\n",
      "REMOVING POINT\n"
     ]
    }
   ],
   "source": [
    "from operator import itemgetter\n",
    "from copy import copy\n",
    "current_configuration = initial_configuration\n",
    "\n",
    "# while 0 < len(current_configuration.possible_origins):\n",
    "degrees = []\n",
    "for rect in all_rects:\n",
    "    for origin_point in current_configuration.possible_origins:\n",
    "        for rotation in [True, False]:\n",
    "            ccoa = CCOA(rect=rect, origin=copy(origin_point), rotated=rotation, container=Rect(-1,container_width, container_height))\n",
    "            d = ccoa.degree(current_configuration.packed_rects)\n",
    "            degrees.append((d,ccoa))\n",
    "for i in degrees:\n",
    "    print(i)\n",
    "best_degree, rect_to_place = max(degrees,key=itemgetter(0))\n",
    "print(rect_to_place)\n",
    "current_configuration.place_rect(rect_to_place)\n",
    "#current_configuration.possible_ccoas[best]\n"
   ]
  },
  {
   "cell_type": "code",
   "execution_count": 14,
   "metadata": {},
   "outputs": [
    {
     "ename": "NameError",
     "evalue": "name 'current_configuration' is not defined",
     "output_type": "error",
     "traceback": [
      "\u001b[0;31m---------------------------------------------------------------------------\u001b[0m",
      "\u001b[0;31mNameError\u001b[0m                                 Traceback (most recent call last)",
      "\u001b[0;32m/var/folders/kg/87d0nmxn11xbzs39mwh7hjvr0000gn/T/ipykernel_20345/274854901.py\u001b[0m in \u001b[0;36m<module>\u001b[0;34m\u001b[0m\n\u001b[1;32m     15\u001b[0m     \u001b[0;32mreturn\u001b[0m \u001b[0mC_star\u001b[0m\u001b[0;34m\u001b[0m\u001b[0;34m\u001b[0m\u001b[0m\n\u001b[1;32m     16\u001b[0m \u001b[0;34m\u001b[0m\u001b[0m\n\u001b[0;32m---> 17\u001b[0;31m \u001b[0mA0\u001b[0m\u001b[0;34m(\u001b[0m\u001b[0mcurrent_configuration\u001b[0m\u001b[0;34m,\u001b[0m \u001b[0mcurrent_configuration\u001b[0m\u001b[0;34m.\u001b[0m\u001b[0mpossible_actions\u001b[0m\u001b[0;34m)\u001b[0m\u001b[0;34m\u001b[0m\u001b[0;34m\u001b[0m\u001b[0m\n\u001b[0m",
      "\u001b[0;31mNameError\u001b[0m: name 'current_configuration' is not defined"
     ]
    }
   ],
   "source": [
    "from copy import copy\n",
    "\n",
    "def A0(C, L):\n",
    "    degrees = [ccoa.degree(C.packed_rects) for ccoa in L]\n",
    "\n",
    "    id_best = np.argmax(degrees)\n",
    "    best = L[id_best]\n",
    "\n",
    "    C_star = copy(C)\n",
    "    C_star.append(best)\n",
    "\n",
    "    L_star = copy(L)\n",
    "    L_star\n",
    "\n",
    "    return C_star\n",
    "\n",
    "A0(current_configuration, current_configuration.possible_actions)\n"
   ]
  },
  {
   "cell_type": "code",
   "execution_count": null,
   "metadata": {},
   "outputs": [],
   "source": [
    "\n",
    "\n"
   ]
  },
  {
   "cell_type": "code",
   "execution_count": null,
   "metadata": {},
   "outputs": [],
   "source": []
  },
  {
   "cell_type": "code",
   "execution_count": null,
   "metadata": {},
   "outputs": [],
   "source": []
  },
  {
   "cell_type": "code",
   "execution_count": null,
   "metadata": {},
   "outputs": [],
   "source": []
  }
 ],
 "metadata": {
  "interpreter": {
   "hash": "b0fa6594d8f4cbf19f97940f81e996739fb7646882a419484c72d19e05852a7e"
  },
  "kernelspec": {
   "display_name": "Python 3.8.2 64-bit",
   "language": "python",
   "name": "python3"
  },
  "language_info": {
   "codemirror_mode": {
    "name": "ipython",
    "version": 3
   },
   "file_extension": ".py",
   "mimetype": "text/x-python",
   "name": "python",
   "nbconvert_exporter": "python",
   "pygments_lexer": "ipython3",
   "version": "3.9.6"
  },
  "orig_nbformat": 4
 },
 "nbformat": 4,
 "nbformat_minor": 2
}
